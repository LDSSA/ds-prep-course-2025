{
 "cells": [
  {
   "cell_type": "markdown",
   "metadata": {},
   "source": [
    "# SLU15 | Debugging\n",
    "\n",
    "***\n",
    "\n",
    "### [PART 1: Principles/best practices to write good code to avoid bugs/problems](#PART-1:-Principles/best-practices-to-write-good-code-to-avoid-bugs/problems) \n",
    "\n",
    " ### [PART 2: Debugging strategies and tips](#PART-2:-Debugging-strategies-and-tips) \n",
    "\n",
    " ### [PART 3: Exception types](#SyntaxError) \n",
    "- [SyntaxError](#SyntaxError)\n",
    "- [NameError](#NameError)\n",
    "- [AttributeError](#AttributeError)\n",
    "- [TypeError](#TypeError)\n",
    "- [IndexError](#IndexError)\n",
    "***"
   ]
  },
  {
   "cell_type": "markdown",
   "metadata": {},
   "source": [
    "## PART 1: Principles/best practices to write good code to avoid bugs/problems \n",
    "\n",
    "There are a few general suggestions that you can use to make your life simpler.\n",
    "\n",
    "<img src=\"./assets/bad_coding.jpeg\" width=\"400\">"
   ]
  },
  {
   "cell_type": "markdown",
   "metadata": {},
   "source": [
    "### Intro\n",
    "\n",
    "Programmers (also data scientists, engineers, and whoever writes code) often have difficulties understanding why a part of their program doesn't work as expected and why some errors appear and what to do with them.\n",
    "\n",
    "The main purpose of this notebook is to give you a brief introduction on how to think about these kinds of situations and what techniques you can use to get out of them."
   ]
  },
  {
   "cell_type": "markdown",
   "metadata": {},
   "source": [
    "\n",
    "### **Divide your code into functions and modules**\n",
    "\n",
    "As soon as you create a block of code that follows a particular logical flow, create a function to abstract that code.\n",
    "The main advantages of this approach are that you'll always have that section of your code on hand ready to use and you'll be able to keep your code as easy to understand as possible. \n",
    "\n",
    "Let's say that we want to implement the famous FizzBuzz problem:\n",
    "\n",
    "Write a program that prints numbers from 1 to n. When the program encounters a number that is a multiple of three, it will print \"Fizz\"; when it encouters a multiple of five, it will print \"Buzz\"; and for numbers that are multiples of both three and five, it will print \"FizzBuzz\". Note that in each of these cases, the program will only print its text, not the numbers that are multiples of three, five, or both three and five. In addition, `n` will come from user input, and you need to make sure that it's an integer higher than 1 and lower than 1000. \n",
    "\n",
    "Let's also modify the problem a little bit: instead of printing, we need to create a list of numbers or fizzbuzzes.\n",
    "\n",
    "Only at the end of the program do we want to print the whole list.\n",
    "\n",
    "Take a look at the code below and tell me which option is easier to understand:\n",
    "\n",
    "```\n",
    "n = input()\n",
    "assert isinstance(n, int), \"Not an integer.\"\n",
    "assert n > 1, \"Too small\"\n",
    "assert n < 1000, \"Too big\"\n",
    "fizzbuzz_list = []\n",
    "for i in range(1, n+1):\n",
    "    if i % 3 == 0 and i % 5 == 0:\n",
    "        fizzbuzz_list.append(\"fizzbuzz\")\n",
    "    elif i % 3 == 0:\n",
    "        fizzbuzz_list.append(\"fizz\")\n",
    "    elif i % 5 == 0:\n",
    "        fizzbuzz_list.append(\"buzz\")\n",
    "    else:\n",
    "        fizzbuzz_list.append(i)\n",
    "print(fuzzbuzz_list)\n",
    "```\n",
    "\n",
    "VS\n",
    "\n",
    "```\n",
    "n = input()\n",
    "validate_input(n)\n",
    "fizzbuzz_list = create_fizzbuzz_list(n)\n",
    "print(fuzzbuzz_list)\n",
    "```\n",
    "\n",
    "Of course, we still need to implement all the logic in the `validate_input` and `create_fizzbuzz_list` functions, but it's much easier to understand the logic of code divided up into functions.\n",
    "\n",
    "Besides that, if we want to modify our program in the future, it will be much easier to avoid making mistakes if we only have to make changes in just one of the functions we developed, instead of dealing with one long block of code, as we see in the first code example above.\n",
    "\n",
    "<img src=\"./assets/functions_breakup.jpeg\" width=\"400\">\n"
   ]
  },
  {
   "cell_type": "markdown",
   "metadata": {},
   "source": [
    "### **Try to understand each line of the code that you write and what’s the expected input and output.**\n",
    "\n",
    "We know it's difficult when you're new to programming, but it will become easier with time, especially when you deal with your own code (and not something written years ago by someone else).\n",
    "\n",
    "Try to read the code line by line. Google some methods that you are not sure about and also some examples.\n",
    "\n",
    "If you face a new function or method, try to play around with it so that it’s easier to understand how it works.\n"
   ]
  },
  {
   "cell_type": "markdown",
   "metadata": {},
   "source": [
    "### **Try to keep the code as simple as possible**\n",
    "\n",
    "I know this is obvious, but it's really important.\n",
    "\n",
    "With time, you might learn more advanced methods and discover unusual tricks to solve problems that you want to implement in just one line of code. However, if it's not obvious how your code works, you'll probably have trouble understanding it years after you originally write it. \n",
    "\n",
    "Keep it simple, even if it takes longer. You'll get to the more complex methods in time.\n",
    "\n",
    "<img src=\"./assets/understanding_code.jpeg\" width=\"400\">"
   ]
  },
  {
   "cell_type": "markdown",
   "metadata": {},
   "source": [
    "## PART 2: Debugging strategies and tips \n",
    "\n",
    "It's completely okay to have difficulties finding the source of a bug. Everyone knows this feeling, and it's a big part of programming.\n",
    "Here are a couple of tips that could help you while debugging your code.\n",
    "\n",
    "<img src=\"./assets/bugs.jpeg\" width=\"400\">\n"
   ]
  },
  {
   "cell_type": "markdown",
   "metadata": {},
   "source": [
    "## Pay attention to indentation.\n",
    "\n",
    "Indentation is crucial in Python. Errors related to incorrect indentation are common, especially for beginners. Look for any lines where the indentation seems off compared to the surrounding code block.\n",
    "\n",
    "\n"
   ]
  },
  {
   "cell_type": "markdown",
   "metadata": {},
   "source": [
    "## Read the error. \n",
    "\n",
    "Yes. Read it. Read all of it. Read it again. \n",
    "\n",
    "Compared to other programming languages, Python produces really nice errors that are easy to understand.\n",
    "Here are a few suggestions on how to understand them.\n",
    "1. Read from the bottom to the top.\n",
    "2. The last line of the error contains an Exception type and a message. Try to understand what this means. If you're not familiar with the exception type, google it.\n",
    "3. While going through the error (from the bottom to the top), you'll find lots of lines like this:\n",
    "\n",
    "```\n",
    "File \"/path/to/file.py\", line_number, module_name\n",
    "<code_that_failed_to_execute>\n",
    "```\n",
    "\n",
    "These messages include the code you created, as well as the source code. Try to find the part of your code that called the exception to understand which line contains the bug.\n",
    "\n",
    "<img src=\"./assets/error_messages.jpeg\" width=\"400\">\n",
    "\n"
   ]
  },
  {
   "cell_type": "markdown",
   "metadata": {},
   "source": [
    "## Go through the code line by line\n",
    "\n",
    "If you cannot find the bug by reading the error, try reading your code line by line to make sure that you understand its behavior.\n",
    "\n",
    "If you’re not sure what a particular line does, try to print variables before and after the line to see their types. Print everything you’re not sure about.\n",
    "```\n",
    "print(variable)\n",
    "print(type(variable))\n",
    "```\n",
    "\n",
    "When you get familiar with some IDEs (e.g. Pycharm, Visual Studio), you can start using breakpoints to pause a program's execution before any line of the code. This will let you take a look at your variables and their types.\n",
    "\n",
    "As we don't cover Pycharm in this course, we will not dive into it as a topic for now.\n",
    "\n",
    "However, keep Pycharm in the back of your mind for later. I strongly suggest that you start using it when you start developing more advanced programs.\n",
    "\n",
    "<img src=\"./assets/breakpoints.jpg\" width=\"400\">\n",
    "\n"
   ]
  },
  {
   "cell_type": "markdown",
   "metadata": {},
   "source": [
    "## Try to change only one thing at a time. \n",
    "Change only one line of code and then see if that solves the problem. If not, undo your change and look for other options. \n",
    "\n",
    "Don't try to change the code in multiple places at the same time, because you'll probably create even more bugs as a result.\n",
    "\n",
    "<img src=\"./assets/bugs.jpeg\" width=\"400\">\n",
    "\n"
   ]
  },
  {
   "cell_type": "markdown",
   "metadata": {},
   "source": [
    "## Google it\n",
    "Finally, if you were not able to find the problem, try googling it. \n",
    "\n",
    "There is a 99% chance that someone already faced it. Stackoverflow is your best friend.\n",
    "\n",
    "<img src=\"./assets/googling.jpeg\" width=\"400\">\n",
    "\n"
   ]
  },
  {
   "cell_type": "markdown",
   "metadata": {},
   "source": [
    "## PART 3: Exception types\n",
    "\n",
    "Let's take a look at some of the most common types of exceptions and discuss what to do with each of them.\n"
   ]
  },
  {
   "cell_type": "markdown",
   "metadata": {},
   "source": [
    "## SyntaxError\n",
    "\n",
    "An exception caused by not following the proper structure (syntax) of the language.\n",
    "Here are a few common syntax-related mistakes people usually make:\n",
    "\n",
    "### Forgetting to add a semicolon after if/else/for/while/def"
   ]
  },
  {
   "cell_type": "code",
   "execution_count": 1,
   "metadata": {},
   "outputs": [
    {
     "ename": "SyntaxError",
     "evalue": "invalid syntax (2733300111.py, line 1)",
     "output_type": "error",
     "traceback": [
      "\u001b[0;36m  Input \u001b[0;32mIn [1]\u001b[0;36m\u001b[0m\n\u001b[0;31m    for i in range(10)\u001b[0m\n\u001b[0m                      ^\u001b[0m\n\u001b[0;31mSyntaxError\u001b[0m\u001b[0;31m:\u001b[0m invalid syntax\n"
     ]
    }
   ],
   "source": [
    "for i in range(10)\n",
    "    print(i)"
   ]
  },
  {
   "cell_type": "markdown",
   "metadata": {},
   "source": [
    "### Misspellings"
   ]
  },
  {
   "cell_type": "code",
   "execution_count": null,
   "metadata": {},
   "outputs": [
    {
     "ename": "SyntaxError",
     "evalue": "invalid syntax (1364239958.py, line 1)",
     "output_type": "error",
     "traceback": [
      "\u001b[0;36m  Input \u001b[0;32mIn [3]\u001b[0;36m\u001b[0m\n\u001b[0;31m    fr i in range(10):\u001b[0m\n\u001b[0m       ^\u001b[0m\n\u001b[0;31mSyntaxError\u001b[0m\u001b[0;31m:\u001b[0m invalid syntax\n"
     ]
    }
   ],
   "source": [
    "fr i in range(10):\n",
    "    print(i)"
   ]
  },
  {
   "cell_type": "markdown",
   "metadata": {},
   "source": [
    "### While operating on a string, you forgot to add quotes"
   ]
  },
  {
   "cell_type": "code",
   "execution_count": null,
   "metadata": {},
   "outputs": [
    {
     "ename": "SyntaxError",
     "evalue": "invalid syntax (3084163573.py, line 1)",
     "output_type": "error",
     "traceback": [
      "\u001b[0;36m  Input \u001b[0;32mIn [4]\u001b[0;36m\u001b[0m\n\u001b[0;31m    print(hey folks)\u001b[0m\n\u001b[0m              ^\u001b[0m\n\u001b[0;31mSyntaxError\u001b[0m\u001b[0;31m:\u001b[0m invalid syntax\n"
     ]
    }
   ],
   "source": [
    "print(hey folks)"
   ]
  },
  {
   "cell_type": "markdown",
   "metadata": {},
   "source": [
    "### Different numbers of open and closed brackets"
   ]
  },
  {
   "cell_type": "code",
   "execution_count": null,
   "metadata": {},
   "outputs": [
    {
     "ename": "SyntaxError",
     "evalue": "unexpected EOF while parsing (1883536961.py, line 1)",
     "output_type": "error",
     "traceback": [
      "\u001b[0;36m  Input \u001b[0;32mIn [5]\u001b[0;36m\u001b[0m\n\u001b[0;31m    print((10, 20, 30)\u001b[0m\n\u001b[0m                      ^\u001b[0m\n\u001b[0;31mSyntaxError\u001b[0m\u001b[0;31m:\u001b[0m unexpected EOF while parsing\n"
     ]
    }
   ],
   "source": [
    "print((10, 20, 30)"
   ]
  },
  {
   "cell_type": "markdown",
   "metadata": {},
   "source": [
    "## NameError\n",
    "\n",
    "An exception caused by trying to access a variable that doesn't exist.\n",
    "\n",
    "### The variable is called before it's declared. \n",
    "\n",
    "This happens pretty often in jupyter notebooks. For instance, creating a cell that declares a variable AFTER a cell that uses that variable\n"
   ]
  },
  {
   "cell_type": "code",
   "execution_count": null,
   "metadata": {},
   "outputs": [
    {
     "ename": "NameError",
     "evalue": "name 'a' is not defined",
     "output_type": "error",
     "traceback": [
      "\u001b[0;31m---------------------------------------------------------------------------\u001b[0m",
      "\u001b[0;31mNameError\u001b[0m                                 Traceback (most recent call last)",
      "Input \u001b[0;32mIn [6]\u001b[0m, in \u001b[0;36m<cell line: 1>\u001b[0;34m()\u001b[0m\n\u001b[0;32m----> 1\u001b[0m \u001b[38;5;28mprint\u001b[39m(\u001b[43ma\u001b[49m)\n",
      "\u001b[0;31mNameError\u001b[0m: name 'a' is not defined"
     ]
    }
   ],
   "source": [
    "print(a)"
   ]
  },
  {
   "cell_type": "code",
   "execution_count": null,
   "metadata": {},
   "outputs": [],
   "source": [
    "a = 10"
   ]
  },
  {
   "cell_type": "markdown",
   "metadata": {},
   "source": [
    "### The variable name is misspelled"
   ]
  },
  {
   "cell_type": "code",
   "execution_count": null,
   "metadata": {},
   "outputs": [
    {
     "ename": "NameError",
     "evalue": "name 'hello_word' is not defined",
     "output_type": "error",
     "traceback": [
      "\u001b[0;31m---------------------------------------------------------------------------\u001b[0m",
      "\u001b[0;31mNameError\u001b[0m                                 Traceback (most recent call last)",
      "Input \u001b[0;32mIn [8]\u001b[0m, in \u001b[0;36m<cell line: 3>\u001b[0;34m()\u001b[0m\n\u001b[1;32m      1\u001b[0m hello_world \u001b[38;5;241m=\u001b[39m \u001b[38;5;124m\"\u001b[39m\u001b[38;5;124mHello world\u001b[39m\u001b[38;5;124m\"\u001b[39m\n\u001b[0;32m----> 3\u001b[0m \u001b[38;5;28mprint\u001b[39m(\u001b[43mhello_word\u001b[49m)\n",
      "\u001b[0;31mNameError\u001b[0m: name 'hello_word' is not defined"
     ]
    }
   ],
   "source": [
    "hello_world = \"Hello world\"\n",
    "\n",
    "print(hello_word)"
   ]
  },
  {
   "cell_type": "markdown",
   "metadata": {},
   "source": [
    "### A module calling a function that hasn't been imported"
   ]
  },
  {
   "cell_type": "code",
   "execution_count": null,
   "metadata": {},
   "outputs": [
    {
     "ename": "NameError",
     "evalue": "name 'pd' is not defined",
     "output_type": "error",
     "traceback": [
      "\u001b[0;31m---------------------------------------------------------------------------\u001b[0m",
      "\u001b[0;31mNameError\u001b[0m                                 Traceback (most recent call last)",
      "Input \u001b[0;32mIn [9]\u001b[0m, in \u001b[0;36m<cell line: 1>\u001b[0;34m()\u001b[0m\n\u001b[0;32m----> 1\u001b[0m \u001b[43mpd\u001b[49m\u001b[38;5;241m.\u001b[39mDataFrame()\n",
      "\u001b[0;31mNameError\u001b[0m: name 'pd' is not defined"
     ]
    }
   ],
   "source": [
    "pd.DataFrame()"
   ]
  },
  {
   "cell_type": "markdown",
   "metadata": {},
   "source": [
    "### While operating on a single-word string, you forgot to add quotes\n"
   ]
  },
  {
   "cell_type": "code",
   "execution_count": null,
   "metadata": {},
   "outputs": [
    {
     "ename": "NameError",
     "evalue": "name 'hello' is not defined",
     "output_type": "error",
     "traceback": [
      "\u001b[0;31m---------------------------------------------------------------------------\u001b[0m",
      "\u001b[0;31mNameError\u001b[0m                                 Traceback (most recent call last)",
      "Input \u001b[0;32mIn [10]\u001b[0m, in \u001b[0;36m<cell line: 1>\u001b[0;34m()\u001b[0m\n\u001b[0;32m----> 1\u001b[0m \u001b[38;5;28mprint\u001b[39m(\u001b[43mhello\u001b[49m)\n",
      "\u001b[0;31mNameError\u001b[0m: name 'hello' is not defined"
     ]
    }
   ],
   "source": [
    "print(hello)"
   ]
  },
  {
   "cell_type": "markdown",
   "metadata": {},
   "source": [
    "## AttributeError \n",
    "\n",
    "These errors usually appear when you're calling a method on a wrong type of object."
   ]
  },
  {
   "cell_type": "code",
   "execution_count": null,
   "metadata": {},
   "outputs": [
    {
     "ename": "AttributeError",
     "evalue": "'int' object has no attribute 'append'",
     "output_type": "error",
     "traceback": [
      "\u001b[0;31m---------------------------------------------------------------------------\u001b[0m",
      "\u001b[0;31mAttributeError\u001b[0m                            Traceback (most recent call last)",
      "Input \u001b[0;32mIn [11]\u001b[0m, in \u001b[0;36m<cell line: 2>\u001b[0;34m()\u001b[0m\n\u001b[1;32m      1\u001b[0m a \u001b[38;5;241m=\u001b[39m \u001b[38;5;241m10\u001b[39m\n\u001b[0;32m----> 2\u001b[0m \u001b[43ma\u001b[49m\u001b[38;5;241;43m.\u001b[39;49m\u001b[43mappend\u001b[49m(\u001b[38;5;241m11\u001b[39m)\n",
      "\u001b[0;31mAttributeError\u001b[0m: 'int' object has no attribute 'append'"
     ]
    }
   ],
   "source": [
    "a = 10\n",
    "a.append(11)"
   ]
  },
  {
   "cell_type": "markdown",
   "metadata": {},
   "source": [
    "## TypeError"
   ]
  },
  {
   "cell_type": "markdown",
   "metadata": {},
   "source": [
    "### Using a wrong parameter type with a function"
   ]
  },
  {
   "cell_type": "code",
   "execution_count": null,
   "metadata": {},
   "outputs": [
    {
     "ename": "TypeError",
     "evalue": "expected str, bytes or os.PathLike object, not list",
     "output_type": "error",
     "traceback": [
      "\u001b[0;31m---------------------------------------------------------------------------\u001b[0m",
      "\u001b[0;31mTypeError\u001b[0m                                 Traceback (most recent call last)",
      "Input \u001b[0;32mIn [12]\u001b[0m, in \u001b[0;36m<cell line: 1>\u001b[0;34m()\u001b[0m\n\u001b[0;32m----> 1\u001b[0m \u001b[38;5;28;43mopen\u001b[39;49m\u001b[43m(\u001b[49m\u001b[43m[\u001b[49m\u001b[43m]\u001b[49m\u001b[43m)\u001b[49m\n",
      "\u001b[0;31mTypeError\u001b[0m: expected str, bytes or os.PathLike object, not list"
     ]
    }
   ],
   "source": [
    "open([])"
   ]
  },
  {
   "cell_type": "code",
   "execution_count": null,
   "metadata": {},
   "outputs": [],
   "source": [
    "### Using a wrong number of parameters with a function"
   ]
  },
  {
   "cell_type": "code",
   "execution_count": null,
   "metadata": {},
   "outputs": [
    {
     "ename": "TypeError",
     "evalue": "say_hello_world() takes 0 positional arguments but 1 was given",
     "output_type": "error",
     "traceback": [
      "\u001b[0;31m---------------------------------------------------------------------------\u001b[0m",
      "\u001b[0;31mTypeError\u001b[0m                                 Traceback (most recent call last)",
      "Input \u001b[0;32mIn [13]\u001b[0m, in \u001b[0;36m<cell line: 3>\u001b[0;34m()\u001b[0m\n\u001b[1;32m      1\u001b[0m \u001b[38;5;28;01mdef\u001b[39;00m \u001b[38;5;21msay_hello_world\u001b[39m():\n\u001b[1;32m      2\u001b[0m     \u001b[38;5;28mprint\u001b[39m(\u001b[38;5;124m\"\u001b[39m\u001b[38;5;124mHello world\u001b[39m\u001b[38;5;124m\"\u001b[39m)\n\u001b[0;32m----> 3\u001b[0m \u001b[43msay_hello_world\u001b[49m\u001b[43m(\u001b[49m\u001b[38;5;241;43m10\u001b[39;49m\u001b[43m)\u001b[49m\n",
      "\u001b[0;31mTypeError\u001b[0m: say_hello_world() takes 0 positional arguments but 1 was given"
     ]
    }
   ],
   "source": [
    "def say_hello_world():\n",
    "    print(\"Hello world\")\n",
    "say_hello_world(10)"
   ]
  },
  {
   "cell_type": "code",
   "execution_count": null,
   "metadata": {},
   "outputs": [
    {
     "ename": "TypeError",
     "evalue": "add_ten() missing 1 required positional argument: 'i'",
     "output_type": "error",
     "traceback": [
      "\u001b[0;31m---------------------------------------------------------------------------\u001b[0m",
      "\u001b[0;31mTypeError\u001b[0m                                 Traceback (most recent call last)",
      "Input \u001b[0;32mIn [14]\u001b[0m, in \u001b[0;36m<cell line: 3>\u001b[0;34m()\u001b[0m\n\u001b[1;32m      1\u001b[0m \u001b[38;5;28;01mdef\u001b[39;00m \u001b[38;5;21madd_ten\u001b[39m(i):\n\u001b[1;32m      2\u001b[0m     \u001b[38;5;28;01mreturn\u001b[39;00m i \u001b[38;5;241m+\u001b[39m \u001b[38;5;241m10\u001b[39m\n\u001b[0;32m----> 3\u001b[0m \u001b[43madd_ten\u001b[49m\u001b[43m(\u001b[49m\u001b[43m)\u001b[49m\n",
      "\u001b[0;31mTypeError\u001b[0m: add_ten() missing 1 required positional argument: 'i'"
     ]
    }
   ],
   "source": [
    "def add_ten(i):\n",
    "    return i + 10\n",
    "add_ten()"
   ]
  },
  {
   "cell_type": "markdown",
   "metadata": {},
   "source": [
    "## IndexError\n",
    "\n",
    "This usually happens when you try to access an element that is out of range in an array."
   ]
  },
  {
   "cell_type": "code",
   "execution_count": null,
   "metadata": {},
   "outputs": [
    {
     "ename": "IndexError",
     "evalue": "list index out of range",
     "output_type": "error",
     "traceback": [
      "\u001b[0;31m---------------------------------------------------------------------------\u001b[0m",
      "\u001b[0;31mIndexError\u001b[0m                                Traceback (most recent call last)",
      "Input \u001b[0;32mIn [15]\u001b[0m, in \u001b[0;36m<cell line: 2>\u001b[0;34m()\u001b[0m\n\u001b[1;32m      1\u001b[0m nums_list \u001b[38;5;241m=\u001b[39m [\u001b[38;5;241m10\u001b[39m]\n\u001b[0;32m----> 2\u001b[0m \u001b[38;5;28mprint\u001b[39m(\u001b[43mnums_list\u001b[49m\u001b[43m[\u001b[49m\u001b[38;5;241;43m1\u001b[39;49m\u001b[43m]\u001b[49m)\n",
      "\u001b[0;31mIndexError\u001b[0m: list index out of range"
     ]
    }
   ],
   "source": [
    "nums_list = [10]\n",
    "print(nums_list[1])"
   ]
  },
  {
   "cell_type": "markdown",
   "metadata": {},
   "source": [
    "It often happens in loops:"
   ]
  },
  {
   "cell_type": "code",
   "execution_count": null,
   "metadata": {},
   "outputs": [
    {
     "name": "stdout",
     "output_type": "stream",
     "text": [
      "10\n",
      "20\n",
      "30\n"
     ]
    },
    {
     "ename": "IndexError",
     "evalue": "list index out of range",
     "output_type": "error",
     "traceback": [
      "\u001b[0;31m---------------------------------------------------------------------------\u001b[0m",
      "\u001b[0;31mIndexError\u001b[0m                                Traceback (most recent call last)",
      "Input \u001b[0;32mIn [16]\u001b[0m, in \u001b[0;36m<cell line: 2>\u001b[0;34m()\u001b[0m\n\u001b[1;32m      1\u001b[0m nums_list \u001b[38;5;241m=\u001b[39m [\u001b[38;5;241m10\u001b[39m, \u001b[38;5;241m20\u001b[39m, \u001b[38;5;241m30\u001b[39m]\n\u001b[1;32m      2\u001b[0m \u001b[38;5;28;01mfor\u001b[39;00m i \u001b[38;5;129;01min\u001b[39;00m \u001b[38;5;28mrange\u001b[39m(\u001b[38;5;241m4\u001b[39m):\n\u001b[0;32m----> 3\u001b[0m     \u001b[38;5;28mprint\u001b[39m(\u001b[43mnums_list\u001b[49m\u001b[43m[\u001b[49m\u001b[43mi\u001b[49m\u001b[43m]\u001b[49m)\n",
      "\u001b[0;31mIndexError\u001b[0m: list index out of range"
     ]
    }
   ],
   "source": [
    "nums_list = [10, 20, 30]\n",
    "for i in range(4):\n",
    "    print(nums_list[i])"
   ]
  },
  {
   "cell_type": "markdown",
   "metadata": {},
   "source": [
    "<img src=\"./assets/another_exception.png\" width=\"400\">\n"
   ]
  },
  {
   "cell_type": "markdown",
   "metadata": {},
   "source": [
    "## Final words\n",
    "\n",
    "Errors happen. Debugging is frustrating. \n",
    "\n",
    "Sometimes, you'll spend more time debugging something than writing the solution.\n",
    "\n",
    "But we need to deal with it, so...\n",
    "\n",
    "<img src=\"./assets/keep_calm.png\" width=\"400\">\n"
   ]
  }
 ],
 "metadata": {
  "kernelspec": {
   "display_name": "Python 3 (ipykernel)",
   "language": "python",
   "name": "python3"
  },
  "language_info": {
   "codemirror_mode": {
    "name": "ipython",
    "version": 3
   },
   "file_extension": ".py",
   "mimetype": "text/x-python",
   "name": "python",
   "nbconvert_exporter": "python",
   "pygments_lexer": "ipython3",
   "version": "3.13.3"
  }
 },
 "nbformat": 4,
 "nbformat_minor": 4
}
