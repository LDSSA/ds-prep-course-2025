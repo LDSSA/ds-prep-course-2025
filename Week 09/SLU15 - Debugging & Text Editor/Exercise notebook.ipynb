{
 "cells": [
  {
   "cell_type": "markdown",
   "metadata": {
    "deletable": false,
    "editable": false,
    "nbgrader": {
     "grade": false,
     "grade_id": "cell-46d843154dcd7d0f",
     "locked": true,
     "schema_version": 3,
     "solution": false
    }
   },
   "source": [
    "# SLU15 | Debugging. Exercise notebook\n",
    "\n",
    "***\n",
    "\n",
    "Now, we're going to solve a couple of bugs ourselves.\n",
    "\n",
    "Use the suggestions from the learning notebook, your own logic, and Google (if required).\n",
    "\n",
    "**WARNING**: \n",
    "\n",
    "We commented some cells out here. The reason for this is that they produce exceptions (and this behavior is expected), but our internal system doesn't allow exercise notebooks to contain cells that produce exceptions.\n",
    "\n",
    "Uncomment these cells when you want to execute them, and comment them back out when you submit your solution.\n",
    "\n",
    "## Start by importing these packages"
   ]
  },
  {
   "cell_type": "code",
   "execution_count": null,
   "metadata": {},
   "outputs": [],
   "source": [
    "import hashlib\n",
    "\n",
    "def _hash(s):\n",
    "    return hashlib.blake2b(\n",
    "        bytes(str(s), encoding='utf8'),\n",
    "        digest_size=5\n",
    "    ).hexdigest()"
   ]
  },
  {
   "cell_type": "markdown",
   "metadata": {
    "deletable": false,
    "editable": false,
    "nbgrader": {
     "grade": false,
     "grade_id": "cell-db51d425e62c407c",
     "locked": true,
     "schema_version": 3,
     "solution": false,
     "task": false
    }
   },
   "source": [
    "Our main task is to write a program that reads a text file that contains a list of numbers, calculates a \"moving average\" of that list, and writes the results to another text file named `result.txt`.\n",
    "\n",
    "What we mean by a \"moving average\" is clear from the following example. If we want to calculate the averages of a list of numbers `[1, 2, 6, 3]`, we should begin with the first `[1]`, and the average of that number by itself is `1`. Then, we include the next number and calculate the average of `[1, 2]`, which is `1.5`. We add the next number, and the average of `[1, 2, 6]` becomes `3`. Finally, with the last number in the list, and the average of `[1, 2, 6, 3]` is `3`. The result of these moving averages, if we put them in another list, is `[1, 1.5, 3, 3]`.\n",
    "\n",
    "Going back to our task, our program should create a final file named `result.txt` that contains all of our moving averages, each printed on a new line.\n",
    "\n",
    "To accomplish this, we'll begin with a `nums` list, which is a list of numbers, and we'll use an element named `i` to store our averages. Our comparisons will continue until we hit the end of the index of `i`, so we need to be careful to include that last number in the list.\n",
    "\n",
    "Let's make things even more interesting and force ourselves to implement the moving average calcuations ourselves, so we shouldn't use functions like len(), sum(), mean() for our calculations. It's okay to use these functions in any other situations, or course, but we want to test ourselves here. "
   ]
  },
  {
   "cell_type": "markdown",
   "metadata": {
    "deletable": false,
    "editable": false,
    "nbgrader": {
     "grade": false,
     "grade_id": "cell-a519c44a094e167a",
     "locked": true,
     "schema_version": 3,
     "solution": false,
     "task": false
    }
   },
   "source": [
    "If you uncomment and try to execute the program below, you'll get an error:\n",
    "\n",
    "`TypeError: unsupported operand type(s) for +=: 'int' and 'str'`.\n"
   ]
  },
  {
   "cell_type": "code",
   "execution_count": null,
   "metadata": {},
   "outputs": [],
   "source": [
    "# with open('document.txt', 'r') as f:\n",
    "#     numbers = f.readlines()\n",
    "# n_items = 0\n",
    "# current_sum = 0\n",
    "# means = []\n",
    "# for i in numbers:\n",
    "#     n_items += 1\n",
    "#     current_sum += i\n",
    "#     means.append(current_sum / n_items)\n",
    "# with open('result.txt', 'w') as f:\n",
    "#     for num in means:\n",
    "#         f.write(num)"
   ]
  },
  {
   "cell_type": "markdown",
   "metadata": {
    "deletable": false,
    "editable": false,
    "nbgrader": {
     "grade": false,
     "grade_id": "cell-be4a3bde4cfd640d",
     "locked": true,
     "schema_version": 3,
     "solution": false,
     "task": false
    }
   },
   "source": [
    "This error already suggests where to look for issues, but let's try a different approach.\n",
    "\n",
    "Let's divide our code into functions, so that it's easier to find bugs. That will also allow us to easily modify the program in the next steps."
   ]
  },
  {
   "cell_type": "markdown",
   "metadata": {
    "deletable": false,
    "editable": false,
    "nbgrader": {
     "grade": false,
     "grade_id": "cell-a8ee41674eaf0462",
     "locked": true,
     "schema_version": 3,
     "solution": false,
     "task": false
    }
   },
   "source": [
    "### Task 1:\n",
    "Create functions `read_nums`, `calculate_moving_avg`, `write_nums` from the code above.\n",
    "\n",
    "Function `read_nums` needs to take a string `file_name` as a parameter and return the result of reading this file as a list of values.\n",
    "\n",
    "Function `calculate_moving_avg` needs to take a list of integers `nums` as its parameter and return a list of moving averages as a result.\n",
    "\n",
    "Function `write_nums` needs to take a string `file_name` and a list of floats `nums` as parameters and write each number to the file. This function shouldn't return anything.\n",
    "\n",
    "You don't need to change anything in the code yet. Just divide the code into functions."
   ]
  },
  {
   "cell_type": "code",
   "execution_count": null,
   "metadata": {
    "deletable": false,
    "nbgrader": {
     "grade": false,
     "grade_id": "cell-c806f18640ab4195",
     "locked": false,
     "schema_version": 3,
     "solution": true,
     "task": false
    }
   },
   "outputs": [],
   "source": [
    "# def read_nums(file_name):\n",
    "    # ...\n",
    "\n",
    "# def calculate_moving_avg(nums):\n",
    "    # ...\n",
    "\n",
    "# def write_nums(file_name, nums):\n",
    "#     ...\n",
    "\n",
    "\n",
    "# YOUR CODE HERE\n",
    "raise NotImplementedError()"
   ]
  },
  {
   "cell_type": "code",
   "execution_count": null,
   "metadata": {
    "deletable": false,
    "editable": false,
    "nbgrader": {
     "grade": true,
     "grade_id": "cell-c69436878e0ec76e",
     "locked": true,
     "points": 2,
     "schema_version": 3,
     "solution": false,
     "task": false
    }
   },
   "outputs": [],
   "source": [
    "nums = read_nums('document.txt')\n",
    "assert isinstance(nums, list), \"Are you sure your read_nums function returns a list?\"\n",
    "assert len(nums) == 19, \"Wrong number of items in the list returned by read_nums function\"\n",
    "assert _hash(str(nums)) == \"0de4458d18\", \"The result of reading the file doesn't match the expected output\""
   ]
  },
  {
   "cell_type": "markdown",
   "metadata": {
    "deletable": false,
    "editable": false,
    "nbgrader": {
     "grade": false,
     "grade_id": "cell-7e116603b75bd8dd",
     "locked": true,
     "schema_version": 3,
     "solution": false,
     "task": false
    }
   },
   "source": [
    "\n",
    "\n",
    "As you can see, organizing our code into functions has made it much easier to understand what's wrong with it.\n",
    "\n",
    "If you execute the code below, you should see the following error:\n",
    "\n",
    "```\n",
    "---------------------------------------------------------------------------\n",
    "TypeError                                 Traceback (most recent call last)\n",
    "<ipython-input-26-2c8baf7cfac4> in <module>\n",
    "      1 nums = read_nums('document.txt')\n",
    "----> 2 means = calculate_moving_avg(nums)\n",
    "      3 write_nums('result.txt', means)\n",
    "\n",
    "<ipython-input-25-bb04f4b79a0c> in calculate_moving_avg(nums)\n",
    "     10     for i in numbers:\n",
    "     11         n_items += 1\n",
    "---> 12         current_sum += i\n",
    "     13         means.append(current_sum / n_items)\n",
    "     14     return means\n",
    "\n",
    "TypeError: unsupported operand type(s) for +=: 'int' and 'str'\n",
    "```"
   ]
  },
  {
   "cell_type": "code",
   "execution_count": null,
   "metadata": {},
   "outputs": [],
   "source": [
    " # nums = read_nums('document.txt')\n",
    " # means = calculate_moving_avg(nums)\n",
    " # write_nums('result.txt', means)"
   ]
  },
  {
   "cell_type": "markdown",
   "metadata": {
    "deletable": false,
    "editable": false,
    "nbgrader": {
     "grade": false,
     "grade_id": "cell-8b44faebbf9adaa1",
     "locked": true,
     "schema_version": 3,
     "solution": false,
     "task": false
    }
   },
   "source": [
    "\n",
    "\n",
    "### Task 2:\n",
    "\n",
    "It's important to read the errors, so pay attention to the error above and use it to answer the questions below.\n",
    "\n",
    "Your answers will assign the letter of the correct option to the `answer_i` variable, where `i` is the question number.\n",
    "\n",
    "For example, `answer_1=\"A\"` assigns option `A` to question `1`. \n",
    "\n",
    "Some questions may have more than one correct answer, so, in that case, include all of their letters without spaces: \n",
    "\n",
    "`answer_i = \"ABC\"`\n",
    "\n",
    "1. What type of error is the Exception above? \n",
    "\n",
    "```\n",
    "A. IndexError\n",
    "B. TypeError\n",
    "C. NameError\n",
    "D. SyntaxError\n",
    "```\n",
    "\n",
    "2. What's the error message.\n",
    "\n",
    "```\n",
    "A. calculate_moving_avg(nums)\n",
    "B. Traceback (most recent call last)\n",
    "C. unsupported operand type(s) for +=: 'int' and 'str'\n",
    "D. TypeError\n",
    "```\n",
    "\n",
    "3. Which line or lines of code cause the errors?\n",
    "\n",
    "```\n",
    "A. current_sum += i \n",
    "B. means.append(current_sum / n_items)\n",
    "C. write_nums('result.txt', means)\n",
    "D. means = calculate_moving_avg(nums)\n",
    "```"
   ]
  },
  {
   "cell_type": "code",
   "execution_count": null,
   "metadata": {
    "deletable": false,
    "nbgrader": {
     "grade": false,
     "grade_id": "cell-568fd9fe92bd054b",
     "locked": false,
     "schema_version": 3,
     "solution": true,
     "task": false
    }
   },
   "outputs": [],
   "source": [
    "# answer_1 = \"\"\n",
    "# answer_2 = \"\"\n",
    "# answer_3 = \"\"\n",
    "\n",
    "# YOUR CODE HERE\n",
    "raise NotImplementedError()"
   ]
  },
  {
   "cell_type": "code",
   "execution_count": null,
   "metadata": {
    "deletable": false,
    "editable": false,
    "nbgrader": {
     "grade": true,
     "grade_id": "cell-2038524ce338dfa9",
     "locked": true,
     "points": 6,
     "schema_version": 3,
     "solution": false,
     "task": false
    }
   },
   "outputs": [],
   "source": [
    "assert _hash(''.join(sorted(answer_1.upper()))) == '90a8cbb480', \"Wrong exception type\"\n",
    "assert _hash(''.join(sorted(answer_2.upper()))) == 'f72385315c', \"Wrong error message\"\n",
    "assert _hash(''.join(sorted(answer_3.upper()))) == 'd685f0ed6b', \"Wrong error code lines\""
   ]
  },
  {
   "cell_type": "markdown",
   "metadata": {
    "deletable": false,
    "editable": false,
    "nbgrader": {
     "grade": false,
     "grade_id": "cell-8091920221b20bed",
     "locked": true,
     "schema_version": 3,
     "solution": false,
     "task": false
    }
   },
   "source": [
    "As a reminder, our error is `TypeError: unsupported operand type(s) for +=: 'int' and 'str'`, and it's the result of calling `current_sum += i` in `calculate_moving_avg`.\n",
    "\n",
    "What does that mean?\n",
    "\n",
    "Well, it doesn't mean that the `calculate_moving_avg` function contains bugs. \n",
    "\n",
    "Rather, something wrong happened while executing `current_sum += i` inside `calculate_moving_avg`. Our mistake was to add an integer to a string in that line, but Python doesn't allow such operations.\n",
    "\n",
    "Let's figure out why a string showed up there, because our plan was to add an integer to an integer, right?\n",
    "\n"
   ]
  },
  {
   "cell_type": "markdown",
   "metadata": {
    "deletable": false,
    "editable": false,
    "nbgrader": {
     "grade": false,
     "grade_id": "cell-114700aced10198e",
     "locked": true,
     "schema_version": 3,
     "solution": false,
     "task": false
    }
   },
   "source": [
    "### Task 3:\n",
    "\n",
    "\n",
    "\n",
    "\n",
    "Your next task is to go through the code, line by line, analyze what happens with `current_sum` and `i`, and figure out why that string shows up.\n",
    "\n",
    "Modify the created function `read_nums` in such a way that both `current_sum` and `i` can only be integers, which would make this error disappear.\n",
    "\n",
    "**NOTE:**\n",
    "\n",
    "There are other bugs in our code, but we'll leave those for other tasks later on. \n",
    "\n",
    "Remember. Only edit what is relevant to the exception we're dealing with right now."
   ]
  },
  {
   "cell_type": "code",
   "execution_count": null,
   "metadata": {
    "deletable": false,
    "nbgrader": {
     "grade": false,
     "grade_id": "cell-949aca96afb49149",
     "locked": false,
     "schema_version": 3,
     "solution": true,
     "task": false
    }
   },
   "outputs": [],
   "source": [
    "# YOUR CODE HERE\n",
    "raise NotImplementedError()"
   ]
  },
  {
   "cell_type": "code",
   "execution_count": null,
   "metadata": {
    "deletable": false,
    "editable": false,
    "nbgrader": {
     "grade": true,
     "grade_id": "cell-69d3c58b504eb6f1",
     "locked": true,
     "points": 3,
     "schema_version": 3,
     "solution": false,
     "task": false
    }
   },
   "outputs": [],
   "source": [
    "nums = read_nums('document.txt')\n",
    "means = calculate_moving_avg(nums)\n",
    "assert isinstance(means, list), \"calculate_moving_avg function is supposed to return a list\"\n",
    "assert len(means) == 19, \"wrong number of items in the list returned by calculate_moving_avg function\"\n",
    "for num in means:\n",
    "    assert isinstance(num, float), \"Wrong value type. calculate_moving_avg function is supposed to return a list of floats\""
   ]
  },
  {
   "cell_type": "markdown",
   "metadata": {
    "deletable": false,
    "editable": false,
    "nbgrader": {
     "grade": false,
     "grade_id": "cell-f69c47f763231f30",
     "locked": true,
     "schema_version": 3,
     "solution": false,
     "task": false
    }
   },
   "source": [
    "If you solved the previous exercise correctly, our exception should have dissappeared, but there should be another exception if you execute the code below:\n",
    "\n",
    "```\n",
    "---------------------------------------------------------------------------\n",
    "TypeError                                 Traceback (most recent call last)\n",
    "<ipython-input-27-2c8baf7cfac4> in <module>\n",
    "      1 nums = read_nums('document.txt')\n",
    "      2 means = calculate_moving_avg(nums)\n",
    "----> 3 write_nums('result.txt', means)\n",
    "\n",
    "<ipython-input-25-8ffcbd828a96> in write_nums(file_name, nums)\n",
    "     23     with open(file_name, 'w') as f:\n",
    "     24         for num in nums:\n",
    "---> 25             f.write(num)\n",
    "     26 \n",
    "     27 \n",
    "\n",
    "TypeError: write() argument must be str, not float\n",
    "```\n"
   ]
  },
  {
   "cell_type": "code",
   "execution_count": null,
   "metadata": {},
   "outputs": [],
   "source": [
    "# nums = read_nums('document.txt')\n",
    "# means = calculate_moving_avg(nums)\n",
    "# write_nums('result.txt', means)"
   ]
  },
  {
   "cell_type": "markdown",
   "metadata": {
    "deletable": false,
    "editable": false,
    "nbgrader": {
     "grade": false,
     "grade_id": "cell-63477f91f0cc9551",
     "locked": true,
     "schema_version": 3,
     "solution": false,
     "task": false
    }
   },
   "source": [
    "\n",
    "\n",
    "# Task 4:\n",
    "\n",
    "\n",
    "Just like we did at the start of task 2, answer the following questions by assigning the letter of the correct option to the `answer_i` variable, where `i` is the question number.\n",
    "\n",
    "For example, `answer_1=\"A\"` assigns option `A` to question `1`. \n",
    "\n",
    "Some questions may have more than one correct answer, so, in that case, include all of their letters without spaces: \n",
    "\n",
    "`answer_i = \"ABC\"` assigns the letters `A`, `B`, and `C` to question `1`.\n",
    "\n",
    "1. What's the type of the new Exception?\n",
    "\n",
    "```\n",
    "A. IndexError\n",
    "B. TypeError\n",
    "C. NameError\n",
    "D. SyntaxError\n",
    "```\n",
    "\n",
    "2. What's its error message.\n",
    "\n",
    "```\n",
    "A. write() argument must be str, not float\n",
    "B. Traceback (most recent call last)\n",
    "C. f.write(num)\n",
    "D. write_nums('result.txt', means)\n",
    "```\n",
    "\n",
    "3. Which line or lines of code cause the errors?\n",
    "\n",
    "```\n",
    "A. current_sum += i \n",
    "B. means.append(current_sum / n_items)\n",
    "C. write_nums('result.txt', means)\n",
    "D. f.write(num)\n",
    "```"
   ]
  },
  {
   "cell_type": "code",
   "execution_count": null,
   "metadata": {
    "deletable": false,
    "nbgrader": {
     "grade": false,
     "grade_id": "cell-9e13dd102b96d202",
     "locked": false,
     "schema_version": 3,
     "solution": true,
     "task": false
    }
   },
   "outputs": [],
   "source": [
    "# answer_1 = \"\"\n",
    "# answer_2 = \"\"\n",
    "# answer_3 = \"\"\n",
    "\n",
    "# YOUR CODE HERE\n",
    "raise NotImplementedError()\n"
   ]
  },
  {
   "cell_type": "code",
   "execution_count": null,
   "metadata": {
    "deletable": false,
    "editable": false,
    "nbgrader": {
     "grade": true,
     "grade_id": "cell-a2a266bf76e087e1",
     "locked": true,
     "points": 6,
     "schema_version": 3,
     "solution": false,
     "task": false
    }
   },
   "outputs": [],
   "source": [
    "assert _hash(''.join(sorted(answer_1.upper()))) == '90a8cbb480', \"Wrong exception type\"\n",
    "assert _hash(''.join(sorted(answer_2.upper()))) == 'b685b2f862', \"Wrong error message\"\n",
    "assert _hash(''.join(sorted(answer_3.upper()))) == '94c05104ae', \"Wrong error code lines\""
   ]
  },
  {
   "cell_type": "markdown",
   "metadata": {
    "deletable": false,
    "editable": false,
    "nbgrader": {
     "grade": false,
     "grade_id": "cell-aa5aad50b98bbde6",
     "locked": true,
     "schema_version": 3,
     "solution": false,
     "task": false
    }
   },
   "source": [
    "## Task 5 - Part 1:\n",
    "\n",
    "Once again, as a reminder, our current error is `TypeError: write() argument must be str, not float`, and it's the result of calling `f.write(num)` in `write_nums` function.\n",
    "\n",
    "What does that mean?\n",
    "\n",
    "It doesn't mean that the `write_nums` function contains bugs. \n",
    "\n",
    "However, there was something wrong while executing `f.write(num)` inside of `calculate_moving_avg`. Our mistake was expecting that expression to accept a float-type number. \n",
    "\n",
    "If we check the `write` method documentation [here](https://www.w3schools.com/python/ref_file_write.asp), we find the following:\n",
    "\n",
    "`parameter: byte --- The text or byte object that will be inserted.`\n",
    "\n",
    "This means that the `write` method only allows strings and byte objects, not floats.\n",
    "\n",
    "Seems like `num` is a float number.\n",
    "\n",
    "\n",
    "Your task is to modify the code in such a way so that the `write` method works.\n",
    "\n",
    "**NOTE:** \n",
    "\n",
    "There might still be some other bugs in our code, but we'll deal with those later in other tasks. Remember not to edit anything that's not related to our current exception."
   ]
  },
  {
   "cell_type": "code",
   "execution_count": null,
   "metadata": {
    "deletable": false,
    "nbgrader": {
     "grade": false,
     "grade_id": "cell-082945ee7566cb3c",
     "locked": false,
     "schema_version": 3,
     "solution": true,
     "task": false
    }
   },
   "outputs": [],
   "source": [
    "# YOUR CODE HERE\n",
    "raise NotImplementedError()\n"
   ]
  },
  {
   "cell_type": "code",
   "execution_count": null,
   "metadata": {},
   "outputs": [],
   "source": [
    "nums = read_nums('document.txt')\n",
    "means = calculate_moving_avg(nums)\n",
    "write_nums('result.txt', means)"
   ]
  },
  {
   "cell_type": "markdown",
   "metadata": {
    "deletable": false,
    "editable": false,
    "nbgrader": {
     "grade": false,
     "grade_id": "cell-34845f53a325f927",
     "locked": true,
     "schema_version": 3,
     "solution": false,
     "task": false
    }
   },
   "source": [
    "## Task 5 - Part 2:\n",
    "\n",
    "If you did everything correctly in the previous exercise, there should be no more exceptions.\n",
    "\n",
    "But it doesn't mean that our program works 100% correctly, right?\n",
    "\n",
    "We need to validate that the results are correct.\n",
    "\n",
    "Let's read our main task once again.\n",
    "\n",
    "```\n",
    "\n",
    "Our main task is to write a program that reads a text file that contains a list of numbers, calculates a \"moving average\" of that list, and writes the results to another text file named `result.txt`.\n",
    "\n",
    "...our program should create a final file named `result.txt` that contains all of our moving averages, each printed on a new line.\n",
    "\n",
    "```\n",
    "\n",
    "Did we meet the requirements? If you opened the `result.txt` file, you'd find out that it looks like this:\n",
    "\n",
    "<img src=\"./assets/result.png\" width=\"900\">\n",
    "\n",
    "And the task description says that the results file should contain numbers placed on new lines.\n",
    "\n",
    "Your new task is to modify the code in such a way, so that each number is on a new line.\n",
    "The last line should be a number, not an empty string.\n",
    "\n",
    "e.g., correct:\n",
    "\n",
    "`10.5`\n",
    "\n",
    "`3.5`\n",
    "\n",
    "`1.2`\n",
    "\n",
    "\n",
    "wrong:\n",
    "\n",
    "`10.5`\n",
    "\n",
    "`3.5`\n",
    "\n",
    "`1.2`\n",
    "\n",
    "` `"
   ]
  },
  {
   "cell_type": "code",
   "execution_count": null,
   "metadata": {
    "deletable": false,
    "nbgrader": {
     "grade": false,
     "grade_id": "cell-ed7689c30aba19db",
     "locked": false,
     "schema_version": 3,
     "solution": true,
     "task": false
    }
   },
   "outputs": [],
   "source": [
    "# YOUR CODE HERE\n",
    "raise NotImplementedError()\n"
   ]
  },
  {
   "cell_type": "code",
   "execution_count": null,
   "metadata": {
    "deletable": false,
    "editable": false,
    "nbgrader": {
     "grade": true,
     "grade_id": "cell-c9e2a417b3135004",
     "locked": true,
     "points": 3,
     "schema_version": 3,
     "solution": false,
     "task": false
    }
   },
   "outputs": [],
   "source": [
    "nums = read_nums('document.txt')\n",
    "means = calculate_moving_avg(nums)\n",
    "write_nums('result.txt', means)\n",
    "with open('result.txt', 'r') as f:\n",
    "    content = f.readlines()\n",
    "assert len(content) == 19, \"Are you sure there is the same number of lines in the text file, as in the moving averages list?\"\n",
    "for i in range(len(content)):\n",
    "    line = content[i]\n",
    "    if i != len(content) - 1:\n",
    "        assert line[-1:] == \"\\n\", \"Are you sure there is a newline symbol after each number (besides the last one)?\"\n",
    "    else:\n",
    "        assert line[-1:] != \"\\n\", \"There should be no newline symbol at the end of the file\"\n",
    "    num = float(line.strip()) # if line.strip() can be converted to float, everything is alright"
   ]
  },
  {
   "cell_type": "markdown",
   "metadata": {
    "deletable": false,
    "editable": false,
    "nbgrader": {
     "grade": false,
     "grade_id": "cell-5850b6ab3bdf73fe",
     "locked": true,
     "schema_version": 3,
     "solution": false,
     "task": false
    }
   },
   "source": [
    "### And now... Mission Accomplished!!! 🎉🎉🎉\n",
    "Now you can rest for this week, because your work was amaaaaaaazing (Again)!\n",
    "\n",
    "**But don't forget...**\n",
    "\n",
    "***\n",
    "\n",
    "# Submit your work!\n",
    "\n",
    "To grade your exercise notebook and submit your work to the portal, [follow the instructions in the weekly workflow!](https://github.com/LDSSA/ds-prep-course-2024/blob/main/weekly-workflow.md#link-to-grading)"
   ]
  }
 ],
 "metadata": {
  "kernelspec": {
   "display_name": "Python 3 (ipykernel)",
   "language": "python",
   "name": "python3"
  },
  "language_info": {
   "codemirror_mode": {
    "name": "ipython",
    "version": 3
   },
   "file_extension": ".py",
   "mimetype": "text/x-python",
   "name": "python",
   "nbconvert_exporter": "python",
   "pygments_lexer": "ipython3",
   "version": "3.13.3"
  }
 },
 "nbformat": 4,
 "nbformat_minor": 4
}
